{
 "cells": [
  {
   "cell_type": "markdown",
   "id": "4106cf81",
   "metadata": {},
   "source": [
    "Task 1: Create variables to store your name, age, and list of skills."
   ]
  },
  {
   "cell_type": "code",
   "execution_count": null,
   "id": "c810e039",
   "metadata": {},
   "outputs": [],
   "source": []
  },
  {
   "cell_type": "code",
   "execution_count": null,
   "id": "d73f6ff8",
   "metadata": {},
   "outputs": [],
   "source": []
  },
  {
   "cell_type": "markdown",
   "id": "01e51989",
   "metadata": {},
   "source": [
    "TASK 2: Create a program that checks if a student has passed a test and gives a feedback."
   ]
  },
  {
   "cell_type": "code",
   "execution_count": null,
   "id": "0028a0b6",
   "metadata": {},
   "outputs": [],
   "source": [
    "input=int(\"Enter your marks: \")\n",
    "if(input>=40):\n",
    "    print(\"You have passed the test\")\n",
    "else:\n",
    "    print(\"You have failed the test\")"
   ]
  }
 ],
 "metadata": {
  "kernelspec": {
   "display_name": ".venv",
   "language": "python",
   "name": "python3"
  },
  "language_info": {
   "codemirror_mode": {
    "name": "ipython",
    "version": 3
   },
   "file_extension": ".py",
   "mimetype": "text/x-python",
   "name": "python",
   "nbconvert_exporter": "python",
   "pygments_lexer": "ipython3",
   "version": "3.13.2"
  }
 },
 "nbformat": 4,
 "nbformat_minor": 5
}
